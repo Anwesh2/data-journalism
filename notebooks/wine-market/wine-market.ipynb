{
 "cells": [
  {
   "cell_type": "markdown",
   "metadata": {},
   "source": [
    "# A look at the world wine market"
   ]
  },
  {
   "cell_type": "markdown",
   "metadata": {},
   "source": [
    "In this article we want to have a look at present wine market prices and geographic distribution from the point of view of the Wine.com website. **MORE**"
   ]
  },
  {
   "cell_type": "markdown",
   "metadata": {},
   "source": [
    "The Data Journalism technical topics we will cover in this article notebook include:  \n",
    "\n",
    "- How to retrieve data from a web API, the [Wine.com Developer API](https://api.wine.com/) in our case.\n",
    "- How to work with JSON formatted data, including:\n",
    " - How to get it from a HTTP requestresult into Python data structures.\n",
    " - How to write into a text file.\n",
    " - How to read it back.\n",
    " - How to put it into a Pandas data frame.\n",
    "- How to create an interactive map using our data that we can visualise in a modern web browser using [Bokeh](http://bokeh.pydata.org/en/latest/)."
   ]
  },
  {
   "cell_type": "markdown",
   "metadata": {},
   "source": [
    "Hopefully you will find this article interesting but, overall, you will learn the techniques we use here in order to apply them to your own data journalism projects."
   ]
  },
  {
   "cell_type": "markdown",
   "metadata": {},
   "source": [
    "## Getting Wine.com API data"
   ]
  },
  {
   "cell_type": "markdown",
   "metadata": {},
   "source": [
    "In this notebook we will use [Wine.com Developer API](https://api.wine.com/) in order to get a catalog of products we can later use for different analysis. We will use Python's library [Requests](http://www.python-requests.org/en/latest/) to retrieve the data in json format. Then we will store that data in a file for later use."
   ]
  },
  {
   "cell_type": "markdown",
   "metadata": {},
   "source": [
    "### Loading API key"
   ]
  },
  {
   "cell_type": "markdown",
   "metadata": {},
   "source": [
    "First of all you need to sign up for a Wine.com developer account. Once you are registered, go to your Dashboard and copy your API key into a file called `apikey` that we can read using the following Python code."
   ]
  },
  {
   "cell_type": "code",
   "execution_count": 1,
   "metadata": {
    "collapsed": true
   },
   "outputs": [],
   "source": [
    "apikey_f = open('apikey','r')\n",
    "apikey = apikey_f.readline().replace('\\n', ' ').replace('\\r', '').replace(' ', '')"
   ]
  },
  {
   "cell_type": "code",
   "execution_count": 2,
   "metadata": {
    "collapsed": false
   },
   "outputs": [
    {
     "name": "stdout",
     "output_type": "stream",
     "text": [
      "45e24313426662fc6b8ab832d9140a16\n"
     ]
    }
   ],
   "source": [
    "print apikey"
   ]
  },
  {
   "cell_type": "markdown",
   "metadata": {},
   "source": [
    "### Making API requests"
   ]
  },
  {
   "cell_type": "markdown",
   "metadata": {},
   "source": [
    "The goal of the Wine.com Developer API is to provide developers access to their extensive catalog of wine and wine related content in an open and easy to use manner. The API is built using [REST principles](https://en.wikipedia.org/wiki/Representational_state_transfer). You can retrieve content in either XML or JSON format. The best way to start is by having a look at [their documentation](https://api.wine.com/wiki) to read how the API works and the conditions of use."
   ]
  },
  {
   "cell_type": "markdown",
   "metadata": {},
   "source": [
    "From there we can learn that the base URL for any catalog query is as follows."
   ]
  },
  {
   "cell_type": "code",
   "execution_count": 3,
   "metadata": {
    "collapsed": true
   },
   "outputs": [],
   "source": [
    "base_catalog_url = \"http://services.wine.com/api/beta2/service.svc/json/catalog\""
   ]
  },
  {
   "cell_type": "markdown",
   "metadata": {},
   "source": [
    "This base URL will be followed by a series of parameters and our API key in order to perform an actual query."
   ]
  },
  {
   "cell_type": "markdown",
   "metadata": {},
   "source": [
    "One of the best ways to query a web API is to use the Python library [Requests](http://www.python-requests.org/en/latest/). In the words of its developers *\"Python’s standard [urllib2](https://docs.python.org/2/library/urllib2.html) module provides most of the HTTP capabilities you need, but the API is thoroughly broken. It was built for a different time — and a different web. It requires an enormous amount of work (even method overrides) to perform the simplest of tasks\"*. Let's start by importing the library (it might need [installation](http://docs.python-requests.org/en/latest/user/install/))."
   ]
  },
  {
   "cell_type": "code",
   "execution_count": 4,
   "metadata": {
    "collapsed": true
   },
   "outputs": [],
   "source": [
    "import requests"
   ]
  },
  {
   "cell_type": "markdown",
   "metadata": {},
   "source": [
    "#### Getting the total number of wines in the catalog"
   ]
  },
  {
   "cell_type": "markdown",
   "metadata": {},
   "source": [
    "The goal of our first query is to find out how many products does the catalog have in total. Since we are using Python [Requests](http://www.python-requests.org/en/latest/), the best way to prepare queries is by using the base URL with a Python dictionary of parameters. For example, the following dictionary will ask for zero products, but still the API will give as the total of products as part of the response."
   ]
  },
  {
   "cell_type": "code",
   "execution_count": 5,
   "metadata": {
    "collapsed": false
   },
   "outputs": [],
   "source": [
    "zero_query_params = {\n",
    "    'filter': 'categories(490)',\n",
    "    'apikey': apikey,\n",
    "    'size': 0,\n",
    "    'offset': 0\n",
    "}"
   ]
  },
  {
   "cell_type": "markdown",
   "metadata": {},
   "source": [
    "Using Requests to [pass request parameters](http://www.python-requests.org/en/latest/user/quickstart/#passing-parameters-in-urls) is super easy. Just call `requests.get` passing the base URL and the previous dictionary. We call `json` on the result so we get the json result into a Python dictionary."
   ]
  },
  {
   "cell_type": "code",
   "execution_count": 6,
   "metadata": {
    "collapsed": true
   },
   "outputs": [],
   "source": [
    "zero_request_json = requests.get(base_catalog_url, params=zero_query_params).json()"
   ]
  },
  {
   "cell_type": "code",
   "execution_count": 7,
   "metadata": {
    "collapsed": false
   },
   "outputs": [
    {
     "data": {
      "text/plain": [
       "{u'Products': {u'List': [], u'Offset': 0, u'Total': 85142, u'Url': u''},\n",
       " u'Status': {u'Messages': [], u'ReturnCode': 0}}"
      ]
     },
     "execution_count": 7,
     "metadata": {},
     "output_type": "execute_result"
    }
   ],
   "source": [
    "zero_request_json"
   ]
  },
  {
   "cell_type": "markdown",
   "metadata": {},
   "source": [
    "There we have an empty list of products and the total we are looking for."
   ]
  },
  {
   "cell_type": "code",
   "execution_count": 8,
   "metadata": {
    "collapsed": false
   },
   "outputs": [
    {
     "data": {
      "text/plain": [
       "85142"
      ]
     },
     "execution_count": 8,
     "metadata": {},
     "output_type": "execute_result"
    }
   ],
   "source": [
    "total_wines = zero_request_json['Products']['Total']\n",
    "total_wines"
   ]
  },
  {
   "cell_type": "markdown",
   "metadata": {},
   "source": [
    "#### Getting the actual products"
   ]
  },
  {
   "cell_type": "markdown",
   "metadata": {},
   "source": [
    "We can proceed now to get actual products from the catalog. With a [Wine.com Developer account](https://api.wine.com/), we are limited to 1000 hits per day. Therefore we have to manage to get the list of products we want in just 1000 hits. We have more than 85K products in total. Then we need to get at least 86 products per hit if we want to get all of them. Let's define then a page size of 500 so we spend just 171 of our requests. Let's also wait 10 seconds between requests, so we don't overload the server."
   ]
  },
  {
   "cell_type": "code",
   "execution_count": 9,
   "metadata": {
    "collapsed": true
   },
   "outputs": [],
   "source": [
    "# Don't make this too small. Be respectful!\n",
    "inter_request_lapse = 10\n",
    "\n",
    "# Total products to be requested\n",
    "max_wines = total_wines # If you don't want all wines, use something smaller like 5000\n",
    "\n",
    "# Max. products by request\n",
    "page_size = 500"
   ]
  },
  {
   "cell_type": "markdown",
   "metadata": {},
   "source": [
    "We are now ready to get our products using the Wine.com API as follows."
   ]
  },
  {
   "cell_type": "code",
   "execution_count": 10,
   "metadata": {
    "collapsed": false
   },
   "outputs": [
    {
     "name": "stdout",
     "output_type": "stream",
     "text": [
      "Read 500 wines from Wine.com so far\n",
      "Read 1000 wines from Wine.com so far\n",
      "Read 1500 wines from Wine.com so far\n",
      "Read 2000 wines from Wine.com so far\n",
      "Read 2500 wines from Wine.com so far\n",
      "Read 3000 wines from Wine.com so far\n",
      "Read 3500 wines from Wine.com so far\n",
      "Read 4000 wines from Wine.com so far\n",
      "Read 4500 wines from Wine.com so far\n",
      "Read 5000 wines from Wine.com so far\n",
      "Read 5500 wines from Wine.com so far\n",
      "Read 6000 wines from Wine.com so far\n",
      "Read 6500 wines from Wine.com so far\n",
      "Read 7000 wines from Wine.com so far\n",
      "Read 7500 wines from Wine.com so far\n",
      "Read 8000 wines from Wine.com so far\n",
      "Read 8500 wines from Wine.com so far\n",
      "Read 9000 wines from Wine.com so far\n",
      "Read 9500 wines from Wine.com so far\n",
      "Read 10000 wines from Wine.com so far\n",
      "Read 10500 wines from Wine.com so far\n",
      "Read 11000 wines from Wine.com so far\n",
      "Read 11500 wines from Wine.com so far\n",
      "Read 12000 wines from Wine.com so far\n",
      "Read 12500 wines from Wine.com so far\n",
      "Read 13000 wines from Wine.com so far\n",
      "Read 13500 wines from Wine.com so far\n",
      "Read 14000 wines from Wine.com so far\n",
      "Read 14500 wines from Wine.com so far\n",
      "Read 15000 wines from Wine.com so far\n",
      "Read 15500 wines from Wine.com so far\n",
      "Read 16000 wines from Wine.com so far\n",
      "Read 16500 wines from Wine.com so far\n",
      "Read 17000 wines from Wine.com so far\n",
      "Read 17500 wines from Wine.com so far\n",
      "Read 18000 wines from Wine.com so far\n",
      "Read 18500 wines from Wine.com so far\n",
      "Read 19000 wines from Wine.com so far\n",
      "Read 19500 wines from Wine.com so far\n",
      "Read 20000 wines from Wine.com so far\n",
      "Read 20500 wines from Wine.com so far\n",
      "Read 21000 wines from Wine.com so far\n",
      "Read 21500 wines from Wine.com so far\n",
      "Read 22000 wines from Wine.com so far\n",
      "Read 22500 wines from Wine.com so far\n",
      "Read 23000 wines from Wine.com so far\n",
      "Read 23500 wines from Wine.com so far\n",
      "Read 24000 wines from Wine.com so far\n",
      "Read 24500 wines from Wine.com so far\n",
      "Read 25000 wines from Wine.com so far\n",
      "Read 25500 wines from Wine.com so far\n",
      "Read 26000 wines from Wine.com so far\n",
      "Read 26500 wines from Wine.com so far\n",
      "Read 27000 wines from Wine.com so far\n",
      "Read 27500 wines from Wine.com so far\n",
      "Read 28000 wines from Wine.com so far\n",
      "Read 28500 wines from Wine.com so far\n",
      "Read 29000 wines from Wine.com so far\n",
      "Read 29500 wines from Wine.com so far\n",
      "Read 30000 wines from Wine.com so far\n",
      "Read 30500 wines from Wine.com so far\n",
      "Read 31000 wines from Wine.com so far\n",
      "Read 31500 wines from Wine.com so far\n",
      "Read 32000 wines from Wine.com so far\n",
      "Read 32500 wines from Wine.com so far\n",
      "Read 33000 wines from Wine.com so far\n",
      "Read 33500 wines from Wine.com so far\n",
      "Read 34000 wines from Wine.com so far\n",
      "Read 34500 wines from Wine.com so far\n",
      "Read 35000 wines from Wine.com so far\n",
      "Read 35500 wines from Wine.com so far\n",
      "Read 36000 wines from Wine.com so far\n",
      "Read 36500 wines from Wine.com so far\n",
      "Read 37000 wines from Wine.com so far\n",
      "Read 37500 wines from Wine.com so far\n",
      "Read 38000 wines from Wine.com so far\n",
      "Read 38500 wines from Wine.com so far\n",
      "Read 39000 wines from Wine.com so far\n",
      "Read 39500 wines from Wine.com so far\n",
      "Read 40000 wines from Wine.com so far\n",
      "Read 40500 wines from Wine.com so far\n",
      "Read 41000 wines from Wine.com so far\n",
      "Read 41500 wines from Wine.com so far\n",
      "Read 42000 wines from Wine.com so far\n",
      "Read 42500 wines from Wine.com so far\n",
      "Read 43000 wines from Wine.com so far\n",
      "Read 43500 wines from Wine.com so far\n",
      "Read 44000 wines from Wine.com so far\n",
      "Read 44500 wines from Wine.com so far\n",
      "Read 45000 wines from Wine.com so far\n",
      "Read 45500 wines from Wine.com so far\n",
      "Read 46000 wines from Wine.com so far\n",
      "Read 46500 wines from Wine.com so far\n",
      "Read 47000 wines from Wine.com so far\n",
      "Read 47500 wines from Wine.com so far\n",
      "Read 48000 wines from Wine.com so far\n",
      "Read 48500 wines from Wine.com so far\n",
      "Read 49000 wines from Wine.com so far\n",
      "Read 49500 wines from Wine.com so far\n",
      "Read 50000 wines from Wine.com so far\n",
      "Read 50500 wines from Wine.com so far\n",
      "Read 51000 wines from Wine.com so far\n",
      "Read 51500 wines from Wine.com so far\n",
      "Read 52000 wines from Wine.com so far\n",
      "Read 52500 wines from Wine.com so far\n",
      "Read 53000 wines from Wine.com so far\n",
      "Read 53500 wines from Wine.com so far\n",
      "Read 54000 wines from Wine.com so far\n",
      "Read 54500 wines from Wine.com so far\n",
      "Read 55000 wines from Wine.com so far\n",
      "Read 55500 wines from Wine.com so far\n",
      "Read 56000 wines from Wine.com so far\n",
      "Read 56500 wines from Wine.com so far\n",
      "Read 57000 wines from Wine.com so far\n",
      "Read 57500 wines from Wine.com so far\n",
      "Read 58000 wines from Wine.com so far\n",
      "Read 58500 wines from Wine.com so far\n",
      "Read 59000 wines from Wine.com so far\n",
      "Read 59500 wines from Wine.com so far\n",
      "Read 60000 wines from Wine.com so far\n",
      "Read 60500 wines from Wine.com so far\n",
      "Read 61000 wines from Wine.com so far\n",
      "Read 61500 wines from Wine.com so far\n",
      "Read 62000 wines from Wine.com so far\n",
      "Read 62500 wines from Wine.com so far\n",
      "Read 63000 wines from Wine.com so far\n",
      "Read 63500 wines from Wine.com so far\n",
      "Read 64000 wines from Wine.com so far\n",
      "Read 64500 wines from Wine.com so far\n",
      "Read 65000 wines from Wine.com so far\n",
      "Read 65500 wines from Wine.com so far\n",
      "Read 66000 wines from Wine.com so far\n",
      "Read 66500 wines from Wine.com so far\n",
      "Read 67000 wines from Wine.com so far\n",
      "Read 67500 wines from Wine.com so far\n",
      "Read 68000 wines from Wine.com so far\n",
      "Read 68500 wines from Wine.com so far\n",
      "Read 69000 wines from Wine.com so far\n",
      "Read 69500 wines from Wine.com so far\n",
      "Read 70000 wines from Wine.com so far\n",
      "Read 70500 wines from Wine.com so far\n",
      "Read 71000 wines from Wine.com so far\n",
      "Read 71500 wines from Wine.com so far\n",
      "Read 72000 wines from Wine.com so far\n",
      "Read 72500 wines from Wine.com so far\n",
      "Read 73000 wines from Wine.com so far\n",
      "Read 73500 wines from Wine.com so far\n",
      "Read 74000 wines from Wine.com so far\n",
      "Read 74500 wines from Wine.com so far\n",
      "Read 75000 wines from Wine.com so far\n",
      "Read 75500 wines from Wine.com so far\n",
      "Read 76000 wines from Wine.com so far\n",
      "Read 76500 wines from Wine.com so far\n",
      "Read 77000 wines from Wine.com so far\n",
      "Read 77500 wines from Wine.com so far\n",
      "Read 78000 wines from Wine.com so far\n",
      "Read 78500 wines from Wine.com so far\n",
      "Read 79000 wines from Wine.com so far\n",
      "Read 79500 wines from Wine.com so far\n",
      "Read 80000 wines from Wine.com so far\n",
      "Read 80500 wines from Wine.com so far\n",
      "Read 81000 wines from Wine.com so far\n",
      "Read 81500 wines from Wine.com so far\n",
      "Read 82000 wines from Wine.com so far\n",
      "Read 82500 wines from Wine.com so far\n",
      "Read 83000 wines from Wine.com so far\n",
      "Read 83500 wines from Wine.com so far\n",
      "Read 84000 wines from Wine.com so far\n",
      "Read 84500 wines from Wine.com so far\n",
      "Read 85000 wines from Wine.com so far\n",
      "Read 85142 wines from Wine.com so far\n"
     ]
    }
   ],
   "source": [
    "import time\n",
    "\n",
    "offset = 0\n",
    "wines_json = []\n",
    "\n",
    "while (offset < max_wines):\n",
    "    \n",
    "    catalog_query_params = {\n",
    "        'filter': 'categories(490)',\n",
    "        'apikey': apikey,\n",
    "        'size': page_size,\n",
    "        'offset': offset\n",
    "    }\n",
    "    catalog_request_json = requests.get(base_catalog_url, params=catalog_query_params).json()\n",
    "    wines_json.extend(catalog_request_json['Products']['List'])\n",
    "    print \"Read {} wines from Wine.com so far\".format(len(wines_json))\n",
    "    offset = offset + page_size\n",
    "    time.sleep(inter_request_lapse)"
   ]
  },
  {
   "cell_type": "markdown",
   "metadata": {},
   "source": [
    "We ended up with a list of products, as they were given by the Wine.com Developer API. Let's check how many of them we have."
   ]
  },
  {
   "cell_type": "code",
   "execution_count": 11,
   "metadata": {
    "collapsed": false
   },
   "outputs": [
    {
     "data": {
      "text/plain": [
       "85142"
      ]
     },
     "execution_count": 11,
     "metadata": {},
     "output_type": "execute_result"
    }
   ],
   "source": [
    "len(wines_json)"
   ]
  },
  {
   "cell_type": "markdown",
   "metadata": {},
   "source": [
    "### Writing JSON data into a file"
   ]
  },
  {
   "cell_type": "markdown",
   "metadata": {},
   "source": [
    "One thing we want to do is to store the list of products in a text file so we can process the data without querying the Wine.com Developer API over and over again. We do this in Python as follows."
   ]
  },
  {
   "cell_type": "code",
   "execution_count": 16,
   "metadata": {
    "collapsed": true
   },
   "outputs": [],
   "source": [
    "import json\n",
    "with open(\"data_{}.json\".format(max_wines), 'w') as outfile:\n",
    "    json.dump(wines_json, outfile)"
   ]
  },
  {
   "cell_type": "markdown",
   "metadata": {},
   "source": [
    "Let's read it back in order to check so we know how to do that later on when needed."
   ]
  },
  {
   "cell_type": "code",
   "execution_count": 17,
   "metadata": {
    "collapsed": true
   },
   "outputs": [],
   "source": [
    "with open(\"data_{}.json\".format(max_wines),'r') as inputfile:\n",
    "    new_data = json.load(inputfile)"
   ]
  },
  {
   "cell_type": "code",
   "execution_count": 18,
   "metadata": {
    "collapsed": false
   },
   "outputs": [
    {
     "data": {
      "text/plain": [
       "85142"
      ]
     },
     "execution_count": 18,
     "metadata": {},
     "output_type": "execute_result"
    }
   ],
   "source": [
    "len(new_data)"
   ]
  },
  {
   "cell_type": "markdown",
   "metadata": {},
   "source": [
    "## Loading wine data into a Pandas data frame"
   ]
  },
  {
   "cell_type": "markdown",
   "metadata": {},
   "source": [
    "Let's have a look at what an product information looks like in json format."
   ]
  },
  {
   "cell_type": "code",
   "execution_count": 57,
   "metadata": {
    "collapsed": false
   },
   "outputs": [
    {
     "data": {
      "text/plain": [
       "{u'Appellation': {u'Id': 2452,\n",
       "  u'Name': u'Tuscany',\n",
       "  u'Region': {u'Area': None,\n",
       "   u'Id': 105,\n",
       "   u'Name': u'Italy',\n",
       "   u'Url': u'http://www.wine.com/v6/Italy/wine/list.aspx?N=7155+105'},\n",
       "  u'Url': u'http://www.wine.com/v6/Tuscany/wine/list.aspx?N=7155+105+2452'},\n",
       " u'Community': {u'Reviews': {u'HighestScore': 0,\n",
       "   u'List': [],\n",
       "   u'Url': u'http://www.wine.com/v6/Fattoria-Le-Pupille-Elisabetta-Geppetti-Saffredi-2012/wine/143195/Detail.aspx?pageType=reviews'},\n",
       "  u'Url': u'http://www.wine.com/v6/Fattoria-Le-Pupille-Elisabetta-Geppetti-Saffredi-2012/wine/143195/Detail.aspx'},\n",
       " u'Description': u'',\n",
       " u'GeoLocation': {u'Latitude': -360,\n",
       "  u'Longitude': -360,\n",
       "  u'Url': u'http://www.wine.com/v6/aboutwine/mapof.aspx?winery=20057'},\n",
       " u'Id': 143195,\n",
       " u'Labels': [{u'Id': u'143195m',\n",
       "   u'Name': u'thumbnail',\n",
       "   u'Url': u'http://cache.wine.com/labels/143195m.jpg'}],\n",
       " u'Name': u\"Fattoria Le Pupille Elisabetta Geppetti 'Saffredi' 2012\",\n",
       " u'PriceMax': 99.0,\n",
       " u'PriceMin': 99.0,\n",
       " u'PriceRetail': 99.0,\n",
       " u'ProductAttributes': [{u'Id': 36,\n",
       "   u'ImageUrl': u'http://cache.wine.com/assets/glo_icon_collectable_big.gif',\n",
       "   u'Name': u'Collectible Wines',\n",
       "   u'Url': u'http://www.wine.com/v6/Collectible-Wines/wine/list.aspx?N=7155+36'}],\n",
       " u'Ratings': {u'HighestScore': 100, u'List': []},\n",
       " u'Retail': None,\n",
       " u'Type': u'Wine',\n",
       " u'Url': u'http://www.wine.com/v6/Fattoria-Le-Pupille-Elisabetta-Geppetti-Saffredi-2012/wine/143195/Detail.aspx',\n",
       " u'Varietal': {u'Id': 145,\n",
       "  u'Name': u'Other Red Blends',\n",
       "  u'Url': u'http://www.wine.com/v6/Other-Red-Blends/wine/list.aspx?N=7155+124+145',\n",
       "  u'WineType': {u'Id': 124,\n",
       "   u'Name': u'Red Wines',\n",
       "   u'Url': u'http://www.wine.com/v6/Red-Wines/wine/list.aspx?N=7155+124'}},\n",
       " u'Vineyard': {u'GeoLocation': {u'Latitude': -360,\n",
       "   u'Longitude': -360,\n",
       "   u'Url': u'http://www.wine.com/v6/aboutwine/mapof.aspx?winery=20057'},\n",
       "  u'Id': 999997461,\n",
       "  u'ImageUrl': u'http://cache.wine.com/aboutwine/basics/images/winerypics/20057.jpg',\n",
       "  u'Name': u'Fattoria Le Pupille',\n",
       "  u'Url': u'http://www.wine.com/v6/Fattoria-Le-Pupille/learnabout.aspx?winery=20057'},\n",
       " u'Vintage': u'',\n",
       " u'Vintages': {u'List': []}}"
      ]
     },
     "execution_count": 57,
     "metadata": {},
     "output_type": "execute_result"
    }
   ],
   "source": [
    "new_data[0]"
   ]
  },
  {
   "cell_type": "markdown",
   "metadata": {},
   "source": [
    "We have quite a lot of information there. Right now we will be interested in:  \n",
    "\n",
    "- Wine name\n",
    "- Apellation name\n",
    "- Region name\n",
    "- Vintage\n",
    "- Retail price\n",
    "- Number of ratings\n",
    "- Highest rating\n",
    "- Vineyard latitude and longitude\n",
    "- Varietal name\n"
   ]
  },
  {
   "cell_type": "markdown",
   "metadata": {},
   "source": [
    "We can build a Pandas data frame from a dictionary of Python lists that will act as columns. This is just what we are going to do. We will create individual lists for each column by applying a different function to each element in our product list. We will use `map` for that, and the individual function will access the json field we want to include in the specific column."
   ]
  },
  {
   "cell_type": "markdown",
   "metadata": {},
   "source": [
    "Fro example, if we want a list with all the wine names, we can do as follows."
   ]
  },
  {
   "cell_type": "code",
   "execution_count": 38,
   "metadata": {
    "collapsed": true
   },
   "outputs": [],
   "source": [
    "wine_names = map(lambda x: x['Name'], new_data)"
   ]
  },
  {
   "cell_type": "markdown",
   "metadata": {},
   "source": [
    "That was easy cause every single product has a name. However, some columns will have values missing when a product will not include that information. In that case we need to deal with that situation as follows."
   ]
  },
  {
   "cell_type": "code",
   "execution_count": 58,
   "metadata": {
    "collapsed": false
   },
   "outputs": [
    {
     "data": {
      "text/plain": [
       "[u'Tuscany', u'Tuscany', u'Rioja', u'Napa Valley', u'Rioja']"
      ]
     },
     "execution_count": 58,
     "metadata": {},
     "output_type": "execute_result"
    }
   ],
   "source": [
    "def get_appellation_or_empty(product):\n",
    "    try:\n",
    "        return product['Appellation']['Name']\n",
    "    except:\n",
    "        return ''\n",
    "    \n",
    "wine_appellations = map(get_appellation_or_empty, new_data)\n",
    "wine_appellations[:5]"
   ]
  },
  {
   "cell_type": "markdown",
   "metadata": {},
   "source": [
    "That code tries to get a product appelattion name and if it fails it returns the empty string. Let's process the rest of the columns."
   ]
  },
  {
   "cell_type": "code",
   "execution_count": 59,
   "metadata": {
    "collapsed": false
   },
   "outputs": [
    {
     "data": {
      "text/plain": [
       "[u'Italy', u'Italy', u'Spain', u'California', u'Spain']"
      ]
     },
     "execution_count": 59,
     "metadata": {},
     "output_type": "execute_result"
    }
   ],
   "source": [
    "def get_region_or_empty(product):\n",
    "    try:\n",
    "        return product['Appellation']['Region']['Name']\n",
    "    except:\n",
    "        return ''\n",
    "\n",
    "wine_regions = map(get_region_or_empty, new_data)\n",
    "wine_regions[:5]"
   ]
  },
  {
   "cell_type": "code",
   "execution_count": 60,
   "metadata": {
    "collapsed": false
   },
   "outputs": [
    {
     "data": {
      "text/plain": [
       "[u'', u'', u'', u'', u'']"
      ]
     },
     "execution_count": 60,
     "metadata": {},
     "output_type": "execute_result"
    }
   ],
   "source": [
    "wine_vintages = map(lambda x: x['Vintage'], new_data)\n",
    "wine_vintages[:5]"
   ]
  },
  {
   "cell_type": "code",
   "execution_count": 64,
   "metadata": {
    "collapsed": false
   },
   "outputs": [
    {
     "data": {
      "text/plain": [
       "[99.0, 45.0, 65.0, 165.0, 38.0]"
      ]
     },
     "execution_count": 64,
     "metadata": {},
     "output_type": "execute_result"
    }
   ],
   "source": [
    "wine_retail_prices = map(lambda x: x['PriceRetail'], new_data)\n",
    "wine_retail_prices[:5]"
   ]
  },
  {
   "cell_type": "code",
   "execution_count": 70,
   "metadata": {
    "collapsed": false
   },
   "outputs": [
    {
     "data": {
      "text/plain": [
       "[0, 0, 0, 0, 0]"
      ]
     },
     "execution_count": 70,
     "metadata": {},
     "output_type": "execute_result"
    }
   ],
   "source": [
    "wine_num_ratings = map(lambda x: len(x['Ratings']['List']), new_data)\n",
    "wine_num_ratings[:5]"
   ]
  },
  {
   "cell_type": "code",
   "execution_count": 71,
   "metadata": {
    "collapsed": false
   },
   "outputs": [],
   "source": [
    "import pandas as pd\n",
    "\n",
    "wines_dict = {\n",
    "    'Apellation': wine_appellations,\n",
    "    'Region': wine_regions,\n",
    "    'Name': wine_names,\n",
    "    'Vintage': wine_vintages,\n",
    "    'RetailPrice': wine_retail_prices,\n",
    "    'NumRatings': wine_num_ratings\n",
    "}\n",
    "wines_df = pd.DataFrame(data=wines_dict, columns=['Region','Apellation','Name','Vintage','RetailPrice','NumRatings'])"
   ]
  },
  {
   "cell_type": "code",
   "execution_count": 72,
   "metadata": {
    "collapsed": false
   },
   "outputs": [
    {
     "data": {
      "text/html": [
       "<div>\n",
       "<table border=\"1\" class=\"dataframe\">\n",
       "  <thead>\n",
       "    <tr style=\"text-align: right;\">\n",
       "      <th></th>\n",
       "      <th>Region</th>\n",
       "      <th>Apellation</th>\n",
       "      <th>Name</th>\n",
       "      <th>Vintage</th>\n",
       "      <th>RetailPrice</th>\n",
       "      <th>NumRatings</th>\n",
       "    </tr>\n",
       "  </thead>\n",
       "  <tbody>\n",
       "    <tr>\n",
       "      <th>0</th>\n",
       "      <td>Italy</td>\n",
       "      <td>Tuscany</td>\n",
       "      <td>Fattoria Le Pupille Elisabetta Geppetti 'Saffr...</td>\n",
       "      <td></td>\n",
       "      <td>99.00</td>\n",
       "      <td>0</td>\n",
       "    </tr>\n",
       "    <tr>\n",
       "      <th>1</th>\n",
       "      <td>Italy</td>\n",
       "      <td>Tuscany</td>\n",
       "      <td>Caparzo Brunello di Montalcino 2010</td>\n",
       "      <td></td>\n",
       "      <td>45.00</td>\n",
       "      <td>0</td>\n",
       "    </tr>\n",
       "    <tr>\n",
       "      <th>2</th>\n",
       "      <td>Spain</td>\n",
       "      <td>Rioja</td>\n",
       "      <td>Bodegas Muga Gran Reserva Prado Enea 2006</td>\n",
       "      <td></td>\n",
       "      <td>65.00</td>\n",
       "      <td>0</td>\n",
       "    </tr>\n",
       "    <tr>\n",
       "      <th>3</th>\n",
       "      <td>California</td>\n",
       "      <td>Napa Valley</td>\n",
       "      <td>Beringer Private Reserve Cabernet Sauvignon 2012</td>\n",
       "      <td></td>\n",
       "      <td>165.00</td>\n",
       "      <td>0</td>\n",
       "    </tr>\n",
       "    <tr>\n",
       "      <th>4</th>\n",
       "      <td>Spain</td>\n",
       "      <td>Rioja</td>\n",
       "      <td>Faustino I Gran Reserva 2001</td>\n",
       "      <td></td>\n",
       "      <td>38.00</td>\n",
       "      <td>0</td>\n",
       "    </tr>\n",
       "    <tr>\n",
       "      <th>5</th>\n",
       "      <td>California</td>\n",
       "      <td>Napa Valley</td>\n",
       "      <td>CADE Estate Cabernet Sauvignon 2012</td>\n",
       "      <td></td>\n",
       "      <td>89.99</td>\n",
       "      <td>0</td>\n",
       "    </tr>\n",
       "    <tr>\n",
       "      <th>6</th>\n",
       "      <td>California</td>\n",
       "      <td>Napa Valley</td>\n",
       "      <td>Silver Oak Napa Valley Cabernet Sauvignon 2010</td>\n",
       "      <td></td>\n",
       "      <td>110.00</td>\n",
       "      <td>0</td>\n",
       "    </tr>\n",
       "    <tr>\n",
       "      <th>7</th>\n",
       "      <td>Italy</td>\n",
       "      <td>Tuscany</td>\n",
       "      <td>Casanova di Neri Brunello di Montalcino Tenuta...</td>\n",
       "      <td></td>\n",
       "      <td>159.00</td>\n",
       "      <td>0</td>\n",
       "    </tr>\n",
       "    <tr>\n",
       "      <th>8</th>\n",
       "      <td>France - Other regions</td>\n",
       "      <td>Champagne</td>\n",
       "      <td>Veuve Clicquot Brut Yellow Label</td>\n",
       "      <td></td>\n",
       "      <td>56.99</td>\n",
       "      <td>0</td>\n",
       "    </tr>\n",
       "    <tr>\n",
       "      <th>9</th>\n",
       "      <td>California</td>\n",
       "      <td>Napa Valley</td>\n",
       "      <td>Joseph Phelps Insignia 2012</td>\n",
       "      <td></td>\n",
       "      <td>225.00</td>\n",
       "      <td>0</td>\n",
       "    </tr>\n",
       "    <tr>\n",
       "      <th>10</th>\n",
       "      <td>California</td>\n",
       "      <td>Napa Valley</td>\n",
       "      <td>Shafer Hillside Select Cabernet Sauvignon 2011</td>\n",
       "      <td></td>\n",
       "      <td>269.00</td>\n",
       "      <td>0</td>\n",
       "    </tr>\n",
       "    <tr>\n",
       "      <th>11</th>\n",
       "      <td>Italy</td>\n",
       "      <td>Tuscany</td>\n",
       "      <td>Fattoria dei Barbi Brunello di Montalcino 2010</td>\n",
       "      <td></td>\n",
       "      <td>55.00</td>\n",
       "      <td>0</td>\n",
       "    </tr>\n",
       "    <tr>\n",
       "      <th>12</th>\n",
       "      <td>California</td>\n",
       "      <td>Sonoma County</td>\n",
       "      <td>Silver Oak Alexander Valley Cabernet Sauvignon...</td>\n",
       "      <td></td>\n",
       "      <td>70.00</td>\n",
       "      <td>0</td>\n",
       "    </tr>\n",
       "    <tr>\n",
       "      <th>13</th>\n",
       "      <td>California</td>\n",
       "      <td>Napa Valley</td>\n",
       "      <td>Caymus Napa Valley Cabernet Sauvignon 2013</td>\n",
       "      <td></td>\n",
       "      <td>74.99</td>\n",
       "      <td>0</td>\n",
       "    </tr>\n",
       "    <tr>\n",
       "      <th>14</th>\n",
       "      <td>California</td>\n",
       "      <td>Napa Valley</td>\n",
       "      <td>Duckhorn Napa Cabernet Sauvignon 2012</td>\n",
       "      <td></td>\n",
       "      <td>69.99</td>\n",
       "      <td>0</td>\n",
       "    </tr>\n",
       "    <tr>\n",
       "      <th>15</th>\n",
       "      <td>California</td>\n",
       "      <td>Napa Valley</td>\n",
       "      <td>Stag's Leap Wine Cellars Cask 23 Cabernet Sauv...</td>\n",
       "      <td></td>\n",
       "      <td>239.99</td>\n",
       "      <td>0</td>\n",
       "    </tr>\n",
       "    <tr>\n",
       "      <th>16</th>\n",
       "      <td>California</td>\n",
       "      <td>Other California</td>\n",
       "      <td>Meiomi Pinot Noir 2013</td>\n",
       "      <td></td>\n",
       "      <td>22.00</td>\n",
       "      <td>0</td>\n",
       "    </tr>\n",
       "    <tr>\n",
       "      <th>17</th>\n",
       "      <td>California</td>\n",
       "      <td>Napa Valley</td>\n",
       "      <td>Robert Mondavi Reserve Cabernet Sauvignon 2012</td>\n",
       "      <td></td>\n",
       "      <td>145.00</td>\n",
       "      <td>0</td>\n",
       "    </tr>\n",
       "    <tr>\n",
       "      <th>18</th>\n",
       "      <td>Italy</td>\n",
       "      <td>Tuscany</td>\n",
       "      <td>Tenuta Sette Ponti Crognolo 2013</td>\n",
       "      <td></td>\n",
       "      <td>38.00</td>\n",
       "      <td>0</td>\n",
       "    </tr>\n",
       "    <tr>\n",
       "      <th>19</th>\n",
       "      <td>France - Bordeaux</td>\n",
       "      <td>St. Estephe</td>\n",
       "      <td>Chateau Les Ormes de Pez  2010</td>\n",
       "      <td></td>\n",
       "      <td>39.99</td>\n",
       "      <td>0</td>\n",
       "    </tr>\n",
       "  </tbody>\n",
       "</table>\n",
       "</div>"
      ],
      "text/plain": [
       "                    Region        Apellation  \\\n",
       "0                    Italy           Tuscany   \n",
       "1                    Italy           Tuscany   \n",
       "2                    Spain             Rioja   \n",
       "3               California       Napa Valley   \n",
       "4                    Spain             Rioja   \n",
       "5               California       Napa Valley   \n",
       "6               California       Napa Valley   \n",
       "7                    Italy           Tuscany   \n",
       "8   France - Other regions         Champagne   \n",
       "9               California       Napa Valley   \n",
       "10              California       Napa Valley   \n",
       "11                   Italy           Tuscany   \n",
       "12              California     Sonoma County   \n",
       "13              California       Napa Valley   \n",
       "14              California       Napa Valley   \n",
       "15              California       Napa Valley   \n",
       "16              California  Other California   \n",
       "17              California       Napa Valley   \n",
       "18                   Italy           Tuscany   \n",
       "19       France - Bordeaux       St. Estephe   \n",
       "\n",
       "                                                 Name Vintage  RetailPrice  \\\n",
       "0   Fattoria Le Pupille Elisabetta Geppetti 'Saffr...                99.00   \n",
       "1                 Caparzo Brunello di Montalcino 2010                45.00   \n",
       "2           Bodegas Muga Gran Reserva Prado Enea 2006                65.00   \n",
       "3    Beringer Private Reserve Cabernet Sauvignon 2012               165.00   \n",
       "4                        Faustino I Gran Reserva 2001                38.00   \n",
       "5                 CADE Estate Cabernet Sauvignon 2012                89.99   \n",
       "6      Silver Oak Napa Valley Cabernet Sauvignon 2010               110.00   \n",
       "7   Casanova di Neri Brunello di Montalcino Tenuta...               159.00   \n",
       "8                    Veuve Clicquot Brut Yellow Label                56.99   \n",
       "9                         Joseph Phelps Insignia 2012               225.00   \n",
       "10     Shafer Hillside Select Cabernet Sauvignon 2011               269.00   \n",
       "11     Fattoria dei Barbi Brunello di Montalcino 2010                55.00   \n",
       "12  Silver Oak Alexander Valley Cabernet Sauvignon...                70.00   \n",
       "13         Caymus Napa Valley Cabernet Sauvignon 2013                74.99   \n",
       "14              Duckhorn Napa Cabernet Sauvignon 2012                69.99   \n",
       "15  Stag's Leap Wine Cellars Cask 23 Cabernet Sauv...               239.99   \n",
       "16                             Meiomi Pinot Noir 2013                22.00   \n",
       "17     Robert Mondavi Reserve Cabernet Sauvignon 2012               145.00   \n",
       "18                   Tenuta Sette Ponti Crognolo 2013                38.00   \n",
       "19                     Chateau Les Ormes de Pez  2010                39.99   \n",
       "\n",
       "    NumRatings  \n",
       "0            0  \n",
       "1            0  \n",
       "2            0  \n",
       "3            0  \n",
       "4            0  \n",
       "5            0  \n",
       "6            0  \n",
       "7            0  \n",
       "8            0  \n",
       "9            0  \n",
       "10           0  \n",
       "11           0  \n",
       "12           0  \n",
       "13           0  \n",
       "14           0  \n",
       "15           0  \n",
       "16           0  \n",
       "17           0  \n",
       "18           0  \n",
       "19           0  "
      ]
     },
     "execution_count": 72,
     "metadata": {},
     "output_type": "execute_result"
    }
   ],
   "source": [
    "wines_df.head(20)"
   ]
  },
  {
   "cell_type": "markdown",
   "metadata": {},
   "source": [
    "## Visualising wine preferences"
   ]
  },
  {
   "cell_type": "markdown",
   "metadata": {
    "collapsed": true
   },
   "source": [
    "Some charts visualising wine preferences. Candidates:\n",
    "- A map\n",
    "- Distribution of appellations\n",
    "- Distribution of ratings"
   ]
  },
  {
   "cell_type": "markdown",
   "metadata": {},
   "source": [
    "## Conclusions"
   ]
  },
  {
   "cell_type": "code",
   "execution_count": null,
   "metadata": {
    "collapsed": true
   },
   "outputs": [],
   "source": []
  }
 ],
 "metadata": {
  "kernelspec": {
   "display_name": "Python 2",
   "language": "python",
   "name": "python2"
  },
  "language_info": {
   "codemirror_mode": {
    "name": "ipython",
    "version": 2
   },
   "file_extension": ".py",
   "mimetype": "text/x-python",
   "name": "python",
   "nbconvert_exporter": "python",
   "pygments_lexer": "ipython2",
   "version": "2.7.10"
  }
 },
 "nbformat": 4,
 "nbformat_minor": 0
}
